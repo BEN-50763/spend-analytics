{
 "cells": [
  {
   "cell_type": "code",
   "execution_count": 1,
   "metadata": {},
   "outputs": [
    {
     "name": "stderr",
     "output_type": "stream",
     "text": [
      "c:\\Users\\bened\\AppData\\Local\\Programs\\Python\\Python312\\Lib\\site-packages\\sentence_transformers\\cross_encoder\\CrossEncoder.py:11: TqdmExperimentalWarning: Using `tqdm.autonotebook.tqdm` in notebook mode. Use `tqdm.tqdm` instead to force console mode (e.g. in jupyter console)\n",
      "  from tqdm.autonotebook import tqdm, trange\n",
      "c:\\Users\\bened\\AppData\\Local\\Programs\\Python\\Python312\\Lib\\site-packages\\transformers\\tokenization_utils_base.py:1601: FutureWarning: `clean_up_tokenization_spaces` was not set. It will be set to `True` by default. This behavior will be depracted in transformers v4.45, and will be then set to `False` by default. For more details check this issue: https://github.com/huggingface/transformers/issues/31884\n",
      "  warnings.warn(\n"
     ]
    }
   ],
   "source": [
    "from duckduckgo_search import DDGS\n",
    "from sentence_transformers import SentenceTransformer, util\n",
    "import random\n",
    "import requests\n",
    "from bs4 import BeautifulSoup\n",
    "import json\n",
    "from functools import wraps\n",
    "import re\n",
    "\n",
    "# Load the pre-trained model\n",
    "model = SentenceTransformer('paraphrase-MiniLM-L6-v2')\n"
   ]
  },
  {
   "cell_type": "code",
   "execution_count": 2,
   "metadata": {},
   "outputs": [],
   "source": [
    "accept_languages = [\n",
    "    \"en-US,en;q=0.9\",\n",
    "    \"en-GB,en;q=0.9\",\n",
    "    \"en-CA,en;q=0.9\",\n",
    "    \"en-AU,en;q=0.9\",\n",
    "    \"en-NZ,en;q=0.9\",\n",
    "    \"en-ZA,en;q=0.9\",\n",
    "    \"en-IE,en;q=0.9\"\n",
    "]"
   ]
  },
  {
   "cell_type": "code",
   "execution_count": 3,
   "metadata": {},
   "outputs": [],
   "source": [
    "def retry(retries=3):\n",
    "    # Retry decorator with exponential backoff\n",
    "    def decorator(func):\n",
    "        @wraps(func)\n",
    "        def wrapper(*args, **kwargs):\n",
    "            for attempt in range(retries):\n",
    "                try:\n",
    "                    return func(*args, **kwargs)\n",
    "                except Exception as e:\n",
    "                    # On last attempt, return None instead of retrying\n",
    "                    if attempt == retries - 1:\n",
    "                        return None\n",
    "                    # Exponential backoff: 1s, 2s, 4s between retries\n",
    "                    time.sleep(2 ** attempt)\n",
    "            return None\n",
    "        return wrapper\n",
    "    return decorator"
   ]
  },
  {
   "cell_type": "code",
   "execution_count": 4,
   "metadata": {},
   "outputs": [],
   "source": [
    "@retry(retries=3)\n",
    "def search_ddgs(search_item):\n",
    "    # Search DuckDuckGo with retry wrapper\n",
    "    ddgs = DDGS()\n",
    "    results = list(ddgs.text(search_item, max_results=100))  \n",
    "    return results"
   ]
  },
  {
   "cell_type": "code",
   "execution_count": 5,
   "metadata": {},
   "outputs": [],
   "source": [
    "# Function to clean excess wording from item names to improve matches\n",
    "def clean_string(input_string):\n",
    "    return re.sub(r'\\(.*?\\)', '', input_string).strip().lower()"
   ]
  },
  {
   "cell_type": "code",
   "execution_count": 6,
   "metadata": {},
   "outputs": [],
   "source": [
    "def get_url_content(URL):\n",
    "    headers = {\n",
    "    'accept': 'text/html,application/xhtml+xml,application/xml;q=0.9,image/avif,image/webp,image/apng,*/*;q=0.8,application/signed-exchange;v=b3;q=0.7',\n",
    "    \"Accept-Language\": random.choice(accept_languages),\n",
    "    'priority': 'u=0, i',\n",
    "    'referer': 'https://www.google.com/',\n",
    "    'sec-ch-ua': '\"Google Chrome\";v=\"129\", \"Not=A?Brand\";v=\"8\", \"Chromium\";v=\"129\"',\n",
    "    'sec-ch-ua-mobile': '?0',\n",
    "    'sec-ch-ua-platform': '\"Windows\"',\n",
    "    'sec-fetch-dest': 'document',\n",
    "    'sec-fetch-mode': 'navigate',\n",
    "    'sec-fetch-site': 'cross-site',\n",
    "    'sec-fetch-user': '?1',\n",
    "    'upgrade-insecure-requests': '1',\n",
    "    'user-agent': 'Mozilla/5.0 (Windows NT 10.0; Win64; x64) AppleWebKit/537.36 (KHTML, like Gecko) Chrome/129.0.0.0 Safari/537.36',\n",
    "    }\n",
    "\n",
    "    response = requests.get(URL, headers=headers)\n",
    "\n",
    "    return response.content"
   ]
  },
  {
   "cell_type": "code",
   "execution_count": 7,
   "metadata": {},
   "outputs": [],
   "source": [
    "def extract_url_data(content):\n",
    "    try:\n",
    "        # Parse content\n",
    "        data = json.loads(BeautifulSoup(content.decode('utf-8'), 'html.parser').find('script', type='application/discover+json').string)\n",
    "        \n",
    "        # Find product data\n",
    "        product_data = next(\n",
    "            value for key, value in data['mfe-orchestrator']['props']['apolloCache'].items() \n",
    "            if key.startswith('ProductType:')\n",
    "        )\n",
    "\n",
    "        return {\n",
    "            'matched_name': product_data.get('title'),\n",
    "            'barcode': product_data.get('gtin'),\n",
    "            'brand': product_data.get('brandName'),\n",
    "            'category_1': product_data.get('superDepartmentName'),\n",
    "            'category_2': product_data.get('departmentName'),\n",
    "            'category_3': product_data.get('aisleName'),\n",
    "            'category_4': product_data.get('shelfName'),\n",
    "            'rating': product_data.get('reviews({\"count\":10,\"offset\":0})', {}).get('stats', {}).get('overallRating')\n",
    "        }\n",
    "    except Exception as e:\n",
    "        print(f\"Error: {str(e)}\")\n",
    "        return dict.fromkeys(['title', 'gtin', 'brandName', 'superDepartmentName', \n",
    "                            'departmentName', 'aisleName', 'shelfName', 'rating'])"
   ]
  },
  {
   "cell_type": "code",
   "execution_count": 8,
   "metadata": {},
   "outputs": [],
   "source": [
    "def internet_search(search_item):\n",
    "\n",
    "    result_dict = {}\n",
    "\n",
    "    # Probe DDG with retry\n",
    "    ddg_results = search_ddgs(search_item)\n",
    "\n",
    "    # If the dict isn't returned or there's no returned items at all, reflect no match\n",
    "    if not ddg_results:\n",
    "        result_dict[\"item_data\"] = None\n",
    "        result_dict[\"match_score\"] = 0.0\n",
    "        return result_dict\n",
    "\n",
    "    # Collect only URLs which are from tesco item search\n",
    "    filtered_results = [item for item in ddg_results if \"www.tesco.com/groceries/en-GB/products/\" in item['href']]\n",
    "\n",
    "    # If the dict isn't returned or there's no returned items at all, reflect no match\n",
    "    if not filtered_results:\n",
    "        result_dict[\"item_data\"] = None\n",
    "        result_dict[\"match_score\"] = 0.0\n",
    "        return result_dict\n",
    "\n",
    "    # Get a list of the titles and URLs from this\n",
    "    titles = [result[\"title\"] for result in filtered_results]\n",
    "    URLs = [result[\"href\"] for result in filtered_results]\n",
    "\n",
    "    # clean all wording\n",
    "    cleaned_target = clean_string(search_item)\n",
    "    cleaned_titles =  [clean_string(title) for title in titles] \n",
    "\n",
    "    # If there is a perfect name match, extract this one\n",
    "    if cleaned_target in cleaned_titles:\n",
    "        matched_index = cleaned_titles.index(cleaned_target) # Find where the match occured, then find the original name of the matching item to extract its dict\n",
    "        matched_url = URLs[matched_index]\n",
    "        url_content = get_url_content(matched_url)\n",
    "        result_dict = extract_url_data(url_content)\n",
    "        result_dict[\"match_score\"] = 100.0\n",
    "    \n",
    "    else:\n",
    "\n",
    "        # Encode items and target then calculate similarities\n",
    "        target_embedding = model.encode(cleaned_target, convert_to_tensor=True)\n",
    "        candidate_embeddings = model.encode(cleaned_titles, convert_to_tensor=True)\n",
    "        cosine_scores = util.pytorch_cos_sim(target_embedding, candidate_embeddings)[0]\n",
    "\n",
    "        # Collect the best match then find the product name\n",
    "        best_match_index = cosine_scores.argmax().item()\n",
    "        best_match_url = URLs[best_match_index]\n",
    "\n",
    "        # Extract the dict with the best matching name\n",
    "        url_content = get_url_content(best_match_url)\n",
    "        result_dict = extract_url_data(url_content)\n",
    "        result_dict[\"match_score\"] = round(cosine_scores[best_match_index].item() * 100, 1)\n",
    "\n",
    "    return result_dict\n"
   ]
  }
 ],
 "metadata": {
  "kernelspec": {
   "display_name": "Python 3",
   "language": "python",
   "name": "python3"
  },
  "language_info": {
   "codemirror_mode": {
    "name": "ipython",
    "version": 3
   },
   "file_extension": ".py",
   "mimetype": "text/x-python",
   "name": "python",
   "nbconvert_exporter": "python",
   "pygments_lexer": "ipython3",
   "version": "3.12.5"
  }
 },
 "nbformat": 4,
 "nbformat_minor": 2
}
