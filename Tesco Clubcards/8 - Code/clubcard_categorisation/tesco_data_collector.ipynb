{
 "cells": [
  {
   "cell_type": "code",
   "execution_count": null,
   "metadata": {},
   "outputs": [],
   "source": [
    "\"\"\"\n",
    "\n",
    "Script to format the data from the tesco extract into a useful excel (should have used csv!)\n",
    "\n",
    "\"\"\""
   ]
  },
  {
   "cell_type": "code",
   "execution_count": null,
   "metadata": {},
   "outputs": [],
   "source": [
    "import pandas as pd\n",
    "import json\n",
    "import ast\n",
    "import numpy as np\n",
    "import os\n",
    "\n",
    "pd.set_option('display.max_columns', None)\n",
    "pd.set_option('display.max_rows', 25)\n",
    "\n",
    "# Specify the folder containing the JSON files\n",
    "input_folder_path = r\"C:\\Users\\bened\\OneDrive\\Documents\\Businesses\\Relationship Predicting\\Tesco Clubcards\\3 - Raw Data Files\"\n",
    "output_folder_path = r\"C:\\Users\\bened\\OneDrive\\Documents\\Businesses\\Relationship Predicting\\Tesco Clubcards\\4 - Processed Data Files\""
   ]
  },
  {
   "cell_type": "code",
   "execution_count": 8,
   "metadata": {},
   "outputs": [
    {
     "name": "stderr",
     "output_type": "stream",
     "text": [
      "<>:4: SyntaxWarning: invalid escape sequence '\\T'\n",
      "<>:4: SyntaxWarning: invalid escape sequence '\\T'\n",
      "C:\\Users\\bened\\AppData\\Local\\Temp\\ipykernel_29324\\231643357.py:4: SyntaxWarning: invalid escape sequence '\\T'\n",
      "  with open(f'{filepath}\\Tesco-Customer-Data_Me.json') as f:\n"
     ]
    }
   ],
   "source": [
    "filepath = r\"C:\\Users\\bened\\OneDrive\\Documents\\Businesses\\Relationship Predicting\\Tesco Clubcards\\3 - Raw Data Files\"\n",
    "\n",
    "#Open JSON file\n",
    "with open(f'{filepath}\\Tesco-Customer-Data_Me.json') as f:\n",
    "    data = json.load(f)\n",
    "\n",
    "#Convert to DataFrame\n",
    "df = pd.json_normalize(data)"
   ]
  },
  {
   "cell_type": "code",
   "execution_count": 10,
   "metadata": {},
   "outputs": [],
   "source": [
    "#Extract first & second kev/val pair (customer info) - customer & spends\n",
    "key1, dict1 = list(data.items())[0]\n",
    "key2, dict2 = list(data.items())[1]\n",
    "\n",
    "#Turn this into df and split out nested dicts\n",
    "customer_df = pd.json_normalize(dict1)\n",
    "spend_df = pd.json_normalize(dict2)"
   ]
  },
  {
   "cell_type": "code",
   "execution_count": 14,
   "metadata": {},
   "outputs": [],
   "source": [
    "###TO DO\n",
    "###Fix bug in which dicts within a list don't get split into new col\n",
    "\n",
    "#Define the open_lists function\n",
    "def open_lists(cell_value):\n",
    "    if isinstance(cell_value, list):\n",
    "        if cell_value and isinstance(cell_value[0], dict):\n",
    "            return pd.json_normalize(cell_value[0])\n",
    "        else:\n",
    "            return ', '.join(map(str, cell_value))\n",
    "    return cell_value\n",
    "\n",
    "#Apply the function to each cell in the DataFrame\n",
    "DIM_customer = customer_df.apply(lambda row: row.map(open_lists), axis=1)"
   ]
  },
  {
   "cell_type": "code",
   "execution_count": 15,
   "metadata": {},
   "outputs": [],
   "source": [
    "#First turn basket data into df, dropping product and payment (categorised later)\n",
    "#Split payment type list into its own df and assign timeStamp to later join on\n",
    "#Create df for all info within product key\n",
    "dfs = [(pd.DataFrame([data]).drop(columns=['product', 'paymentType']).assign(customer_email=customer_df.iloc[0, 0]),\n",
    "        pd.json_normalize(data['paymentType'] if 'paymentType' in data else []).assign(timeStamp=data[\"timeStamp\"]),\n",
    "        pd.DataFrame(data[\"product\"]).assign(timeStamp=data[\"timeStamp\"], customer_email=customer_df.iloc[0, 0]))\n",
    "       for data in dict2[0]]\n",
    "\n",
    "#Separate DataFrames from the list\n",
    "reference_dfs, payment_dfs, spend_dfs = zip(*dfs)\n",
    "\n",
    "#Concatenate DataFrames along rows\n",
    "final_reference_df = pd.concat(reference_dfs, ignore_index=True)\n",
    "final_payment_df = pd.concat(payment_dfs, ignore_index=True)\n",
    "final_spend_df = pd.concat(spend_dfs, ignore_index=True)\n",
    "\n",
    "#Merge our reference and payment dfs\n",
    "DIM_basket_df = pd.merge(final_reference_df, final_payment_df, on='timeStamp')\n",
    "\n",
    "#Apply the open_lists function to handle lists within the DataFrames\n",
    "DIM_basket_df = DIM_basket_df.apply(open_lists)\n",
    "transaction_table = final_spend_df.apply(open_lists)\n",
    "total_spend_df = pd.merge(transaction_table, DIM_basket_df, on=['timeStamp', 'customer_email'], how='left')\n"
   ]
  },
  {
   "cell_type": "code",
   "execution_count": 11,
   "metadata": {},
   "outputs": [],
   "source": [
    "DIM_basket_df.to_excel(\"DIM_basket_Tesco.xlsx\", index=False)\n",
    "transaction_table.to_excel(\"Tesco_transactions.xlsx\", index=False)\n",
    "total_spend_df.to_excel(\"Tesco.xlsx\", index=False)"
   ]
  },
  {
   "cell_type": "code",
   "execution_count": null,
   "metadata": {},
   "outputs": [],
   "source": [
    "\"\"\"\n",
    "\n",
    "Clean this up\n",
    "\n",
    "\"\"\""
   ]
  }
 ],
 "metadata": {
  "kernelspec": {
   "display_name": "Python 3",
   "language": "python",
   "name": "python3"
  },
  "language_info": {
   "codemirror_mode": {
    "name": "ipython",
    "version": 3
   },
   "file_extension": ".py",
   "mimetype": "text/x-python",
   "name": "python",
   "nbconvert_exporter": "python",
   "pygments_lexer": "ipython3",
   "version": "3.12.1"
  },
  "orig_nbformat": 4
 },
 "nbformat": 4,
 "nbformat_minor": 2
}
